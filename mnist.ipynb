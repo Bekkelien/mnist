{
 "cells": [
  {
   "cell_type": "code",
   "execution_count": 10,
   "metadata": {},
   "outputs": [],
   "source": [
    "%%capture\n",
    "! pip install torch torchvision torchaudio --extra-index-url https://download.pytorch.org/whl/cu116\n",
    "! pip install numpy\n",
    "! pip install matplotlib"
   ]
  },
  {
   "cell_type": "code",
   "execution_count": 11,
   "metadata": {},
   "outputs": [],
   "source": [
    "import gzip\n",
    "import requests\n",
    "import random\n",
    "\n",
    "import torch\n",
    "import torch.nn as nn\n",
    "import torch.optim as optim\n",
    "import torch.nn.functional as F\n",
    "\n",
    "import numpy as np\n",
    "import matplotlib.pyplot as plt\n",
    "\n",
    "from PIL import Image\n",
    "from pathlib import Path"
   ]
  },
  {
   "cell_type": "code",
   "execution_count": 12,
   "metadata": {},
   "outputs": [],
   "source": [
    "# Load in MNIST data\n",
    "folder = Path('data')\n",
    "\n",
    "urls= [\n",
    "        'http://yann.lecun.com/exdb/mnist/train-images-idx3-ubyte.gz',\n",
    "        'http://yann.lecun.com/exdb/mnist/train-labels-idx1-ubyte.gz',\n",
    "        'http://yann.lecun.com/exdb/mnist/t10k-images-idx3-ubyte.gz',\n",
    "        'http://yann.lecun.com/exdb/mnist/t10k-labels-idx1-ubyte.gz' \n",
    "        ]\n",
    "\n",
    "folder.mkdir(exist_ok=True)\n",
    "for url in urls:\n",
    "    r = requests.get(url)\n",
    "    \n",
    "    if (r.status_code == 200):\n",
    "        open(Path(folder) / Path(str(url)).name, 'wb').write(r.content)\n",
    "    else:\n",
    "        print(r.status_code)\n",
    "    "
   ]
  },
  {
   "cell_type": "code",
   "execution_count": 13,
   "metadata": {},
   "outputs": [],
   "source": [
    "# Read data into memory\n",
    "data_paths = list(Path(folder).glob('*.gz'))\n",
    "\n",
    "data = []\n",
    "for path in data_paths:\n",
    "    with open(path, \"rb\") as f:\n",
    "        temp = f.read()\n",
    "        temp = np.frombuffer(gzip.decompress(temp), dtype=np.uint8).copy()\n",
    "        data.append(temp)"
   ]
  },
  {
   "cell_type": "code",
   "execution_count": 14,
   "metadata": {},
   "outputs": [
    {
     "data": {
      "text/plain": [
       "((60000, 28, 28), (60000,), (10000, 28, 28), (10000,))"
      ]
     },
     "execution_count": 14,
     "metadata": {},
     "output_type": "execute_result"
    }
   ],
   "source": [
    "# Remove magic numbers (The training set contains 60000 examples, and the test set 10000 examples.)\n",
    "train_x = data[2][16:]\n",
    "train_y = data[3][8:]\n",
    "test_x = data[0][16:] \n",
    "test_y = data[1][8:]\n",
    "\n",
    "# Reshape\n",
    "train_x = np.array(train_x).reshape((-1,28,28))\n",
    "train_y = np.array(train_y)\n",
    "test_x = np.array(test_x).reshape((-1,28,28,))\n",
    "test_y = np.array(test_y)\n",
    "\n",
    "train_x.shape, train_y.shape, test_x.shape, test_y.shape"
   ]
  },
  {
   "cell_type": "code",
   "execution_count": 15,
   "metadata": {},
   "outputs": [
    {
     "name": "stdout",
     "output_type": "stream",
     "text": [
      "5\n"
     ]
    },
    {
     "data": {
      "image/png": "[encoded data removed]",
      "text/plain": [
       "<Figure size 640x480 with 1 Axes>"
      ]
     },
     "metadata": {},
     "output_type": "display_data"
    }
   ],
   "source": [
    "# Check that we have loaded data correctly\n",
    "print(train_y[0])\n",
    "plt.imshow(train_x[0]);"
   ]
  },
  {
   "cell_type": "code",
   "execution_count": 16,
   "metadata": {},
   "outputs": [
    {
     "data": {
      "text/plain": [
       "Net(\n",
       "  (stack): Sequential(\n",
       "    (0): Linear(in_features=784, out_features=100, bias=True)\n",
       "    (1): ReLU()\n",
       "    (2): Linear(in_features=100, out_features=10, bias=True)\n",
       "    (3): LogSoftmax(dim=1)\n",
       "  )\n",
       ")"
      ]
     },
     "execution_count": 16,
     "metadata": {},
     "output_type": "execute_result"
    }
   ],
   "source": [
    "# Model\n",
    "class Net(nn.Module):\n",
    "\n",
    "    def __init__(self):\n",
    "        super(Net, self).__init__()\n",
    "        self.stack = nn.Sequential(\n",
    "                                nn.Linear(28*28,100),\n",
    "                                nn.ReLU(),\n",
    "                                nn.Linear(100,10),\n",
    "                                nn.LogSoftmax(dim=1))\n",
    "\n",
    "    def forward(self, x):\n",
    "        x = self.stack(x)\n",
    "        return x\n",
    "\n",
    "model = Net().to('cuda')\n",
    "\n",
    "model"
   ]
  },
  {
   "cell_type": "code",
   "execution_count": 17,
   "metadata": {},
   "outputs": [],
   "source": [
    "# Criterion and Optimizer\n",
    "criterion = nn.CrossEntropyLoss()\n",
    "optimizer = torch.optim.SGD(model.parameters(), lr=0.001, momentum=0.9)"
   ]
  },
  {
   "cell_type": "code",
   "execution_count": 19,
   "metadata": {},
   "outputs": [
    {
     "name": "stdout",
     "output_type": "stream",
     "text": [
      "| ID | GPU | MEM |\n",
      "------------------\n",
      "|  0 | 14% | 11% |\n",
      "| ID | GPU | MEM |\n",
      "------------------\n",
      "|  0 | 39% | 18% |\n"
     ]
    }
   ],
   "source": [
    "# Training loop (Uses batch for every iteration)\n",
    "batchs = 10000\n",
    "BS = 128\n",
    "\n",
    "traning_loss = []\n",
    "for batch in range(0,batchs): \n",
    "    # Get random data \n",
    "    random_sample = random.sample(range(len(train_y)), BS)\n",
    "    inputs = torch.tensor(train_x[random_sample]).reshape(-1,28*28).float().to('cuda')\n",
    "    labels = torch.tensor(train_y[random_sample]).long().to('cuda')\n",
    "\n",
    "    optimizer.zero_grad() # Reset gradient to zero\n",
    "\n",
    "    # Forward\n",
    "    output = model(inputs)\n",
    "\n",
    "    # Compute loss\n",
    "    loss = criterion(output, labels)\n",
    "\n",
    "    # Update loss\n",
    "    loss.backward()\n",
    "\n",
    "    # optimizer\n",
    "    optimizer.step()\n",
    "\n",
    "    # Current loss\n",
    "    traning_loss.append(loss.item())\n"
   ]
  },
  {
   "cell_type": "code",
   "execution_count": 20,
   "metadata": {},
   "outputs": [
    {
     "data": {
      "image/png": "[encoded data removed]",
      "text/plain": [
       "<Figure size 640x480 with 1 Axes>"
      ]
     },
     "metadata": {},
     "output_type": "display_data"
    }
   ],
   "source": [
    "plt.plot(traning_loss);"
   ]
  },
  {
   "cell_type": "code",
   "execution_count": 21,
   "metadata": {},
   "outputs": [
    {
     "name": "stdout",
     "output_type": "stream",
     "text": [
      "Accuracy: 0.951\n"
     ]
    }
   ],
   "source": [
    "# Test \n",
    "\n",
    "total_correct = 0\n",
    "with torch.no_grad():\n",
    "    for idx, test in enumerate(test_x):\n",
    "        inputs = torch.tensor(test).reshape(-1,28*28).float().to('cuda')\n",
    "        label = torch.tensor(test_y[idx]).to('cuda')\n",
    "        outputs = model(inputs)\n",
    "        _, predicted = torch.max(outputs.data, 1)\n",
    "        total = idx\n",
    "        total_correct += (predicted == label).sum()\n",
    "\n",
    "print(f\"Accuracy: {(total_correct.item() /  total):.3f}\")"
   ]
  },
  {
   "cell_type": "code",
   "execution_count": 22,
   "metadata": {},
   "outputs": [],
   "source": [
    "# Load inn test image from different sources\n",
    "image = Image.open('test_image.png').convert('L').resize((28, 28))\n",
    "image_tensor = np.array(image)\n",
    "image_tensor = torch.tensor(image_tensor).reshape(-1,28*28).float().to('cuda')"
   ]
  },
  {
   "cell_type": "code",
   "execution_count": 23,
   "metadata": {},
   "outputs": [
    {
     "name": "stdout",
     "output_type": "stream",
     "text": [
      "Prediction: 6\n"
     ]
    },
    {
     "data": {
      "image/png": "[encoded data removed]",
      "text/plain": [
       "<PIL.Image.Image image mode=L size=28x28>"
      ]
     },
     "execution_count": 23,
     "metadata": {},
     "output_type": "execute_result"
    }
   ],
   "source": [
    "# Test model on test image\n",
    "model.eval()\n",
    "output = model(image_tensor)\n",
    "pred = torch.argmax(output, 1)\n",
    "print(f'Prediction: {pred.item()}')\n",
    "image"
   ]
  }
 ],
 "metadata": {
  "kernelspec": {
   "display_name": "Python 3.10.7 ('venv': venv)",
   "language": "python",
   "name": "python3"
  },
  "language_info": {
   "codemirror_mode": {
    "name": "ipython",
    "version": 3
   },
   "file_extension": ".py",
   "mimetype": "text/x-python",
   "name": "python",
   "nbconvert_exporter": "python",
   "pygments_lexer": "ipython3",
   "version": "3.10.7"
  },
  "orig_nbformat": 4,
  "vscode": {
   "interpreter": {
    "hash": "b3ec212d397b9663b27060d2c6718d208e8955ddd9498b3a73ee1bd040b13514"
   }
  }
 },
 "nbformat": 4,
 "nbformat_minor": 2
}
